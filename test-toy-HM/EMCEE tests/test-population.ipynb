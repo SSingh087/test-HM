{
 "cells": [
  {
   "cell_type": "code",
   "execution_count": null,
   "metadata": {},
   "outputs": [],
   "source": [
    "import numpy as np\n",
    "import matplotlib.pyplot as plt\n",
    "\n",
    "true_mean_parent_A, true_mean_parent_B, true_mean_parent_C = 2, 4, 6\n",
    "true_scale_parent_A, true_scale_parent_B, true_scale_parent_C = np.random.random(3)\n",
    "\n",
    "print(true_mean_parent_A, true_mean_parent_B, true_mean_parent_C,\n",
    "      true_scale_parent_A, true_scale_parent_B, true_scale_parent_C)\n",
    "\n",
    "true_scale_child = 0.01\n",
    "\n",
    "N_obs, size_child = 9000, 5\n",
    "\n",
    "def gen_child_data(parent_data):\n",
    "    return np.random.normal(loc=parent_data[:, np.newaxis], scale=true_scale_child, size=(N_obs, size_child))\n",
    "\n",
    "def gen_parent_data(mu_A, sigma_A, mu_B, sigma_B, mu_C, sigma_C):\n",
    "    return np.concatenate((np.random.normal(loc=mu_A, scale=sigma_A, size=N_obs//3), \n",
    "                           np.random.normal(loc=mu_B, scale=sigma_B, size=N_obs//3),\n",
    "                           np.random.normal(loc=mu_C, scale=sigma_C, size=N_obs//3)), axis=0)\n",
    "\n",
    "parent_data = gen_parent_data(true_mean_parent_A, true_scale_parent_A, true_mean_parent_B, true_scale_parent_B, true_mean_parent_C, true_scale_parent_C)\n",
    "child_data = gen_child_data(parent_data)\n",
    "\n",
    "#for i in range(N_obs):\n",
    "#    plt.hist(child_data[i], fill=False, histtype='step')\n",
    "plt.hist(parent_data, fill=False, histtype='step', color='black',linewidth=3, label='parent gaussian', bins=50)\n",
    "plt.xlabel(\"X\")\n",
    "plt.legend()"
   ]
  }
 ],
 "metadata": {
  "language_info": {
   "name": "python"
  },
  "orig_nbformat": 4
 },
 "nbformat": 4,
 "nbformat_minor": 2
}
